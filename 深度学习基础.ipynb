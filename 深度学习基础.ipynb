{
 "cells": [
  {
   "cell_type": "markdown",
   "metadata": {},
   "source": [
    "### 线性回归"
   ]
  },
  {
   "cell_type": "markdown",
   "metadata": {},
   "source": [
    "线性回归输出是一个连续值，因此适用于回归问题。回归问题的实际中很常见，比如房屋价格预测，气温，销售额等连续值的问题。与回归问题不同，分类问题中的模型输出是一个离散值。我们所说的图像分类，垃圾邮件识别，疾病监测等输出为离散值的问题都属于分类问题的范畴。sofamax回归则适用于分类问题。\n",
    "\n",
    "\n",
    "由于线性回归和softmax回归都是单层神经网络，它们涉及的概念和技术同样适用于大多数的深度学习模型。首先我们以线性回归为例，介绍大多数深度学习模型的基本要素和表示方法。"
   ]
  },
  {
   "cell_type": "markdown",
   "metadata": {},
   "source": [
    "#### 线性回归的基本要素 "
   ]
  },
  {
   "cell_type": "markdown",
   "metadata": {},
   "source": [
    "我们以一个简单房屋价格预测作为例子来解释线性回归的基本要素。这个应用的目标是预测一栋房子的售出价格（元）。\n",
    "我们知道这个价格取决于很多因素，如房屋状况，地段，市场行情等。为了简单起见，这里我们假设房屋价格只取决于房屋的状况的两个\n",
    "因素，即面积（平方米） 和房龄（年）。接下来我们希望探索价格与这两个因素的具体关系。\n"
   ]
  },
  {
   "cell_type": "markdown",
   "metadata": {},
   "source": [
    "##### 模型定义"
   ]
  },
  {
   "cell_type": "markdown",
   "metadata": {},
   "source": [
    "设房屋的面积为x1，房龄为x2，售出价格为y，我们需要建立基于输入x1和x2来计算输出\n",
    "y的表达式，也就是模型(model),线性回归假设输出与输入质检的线性关系：\n",
    "$$\n",
    "\\hat { y } = x _ { 1 } w _ { 1 } + x _ { 2 } w _ { 2 } + b\n",
    "$$\n",
    "其中w1,w2是权重（weight）,b是变差（bias），且均为标量。它们是线性回归模型的参数\n",
    "parameters。模型的输出y^是线性回归对于真实价格y的预测或估计。我们通常允许它们之\n",
    "间有一定的误差。"
   ]
  },
  {
   "cell_type": "code",
   "execution_count": null,
   "metadata": {},
   "outputs": [],
   "source": []
  }
 ],
 "metadata": {
  "kernelspec": {
   "display_name": "Python 3",
   "language": "python",
   "name": "python3"
  },
  "language_info": {
   "codemirror_mode": {
    "name": "ipython",
    "version": 3
   },
   "file_extension": ".py",
   "mimetype": "text/x-python",
   "name": "python",
   "nbconvert_exporter": "python",
   "pygments_lexer": "ipython3",
   "version": "3.6.4"
  },
  "toc": {
   "base_numbering": 1,
   "nav_menu": {},
   "number_sections": true,
   "sideBar": true,
   "skip_h1_title": false,
   "title_cell": "Table of Contents",
   "title_sidebar": "Contents",
   "toc_cell": false,
   "toc_position": {},
   "toc_section_display": true,
   "toc_window_display": false
  }
 },
 "nbformat": 4,
 "nbformat_minor": 2
}
