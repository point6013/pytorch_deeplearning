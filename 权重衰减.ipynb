{
 "cells": [
  {
   "cell_type": "markdown",
   "metadata": {},
   "source": [
    "上一节中提提到的过拟合现象，在模型的训练误差远小于测试集上的误差。虽然增大训练接数据集可以减轻过拟合，但是获得额外的训练数据往往代价过大，本节介绍过拟合常用的方式:权重衰减(weight decay)。"
   ]
  },
  {
   "cell_type": "markdown",
   "metadata": {},
   "source": [
    "##### 权重衰减"
   ]
  },
  {
   "cell_type": "markdown",
   "metadata": {},
   "source": [
    "权重衰减等价于L2范数正则化(regularzation)。正则化通过模型损失函数添加惩罚项使学到的模型参数值较小，是应对过拟合的常用方法，我们先描述L2范数正则化，再解释它为何称为权重衰减。\n",
    "L2范数正则化在模型原损失函数的基础上添加L2范数惩罚项，从而得到训练得到所需的最小化函数。L2范数惩罚项是模型权重参数每个元素的平凡和与一个正的常数的乘积。以线性回归中线性回归损失函数\n",
    "$l(w_{1},w_{2},b )= \\frac{1}{n}\\sum_{i=1}^{n}\\frac{1}{2}(x_{1}^{(i)}w_{1}+x_{2}^{(i)}w_{2} +b - y^{(i)})^{2}$ ，其中w1,w2是权重参数，b为偏置，样本i的输入为$x_{1}^{(i)},x_{2}^{(i)},标签是y^{(i)}，样本数为n，将权重参数向量w=[w_{1},w_{2}]表示，$带有L2范数惩罚项的新损失函数为\n",
    "$$l(w_{1},w_{2},b )+\\frac{\\lambda}{2n}\\|\\boldsymbol{w}\\|^{2}$$\n",
    "其中超参数为λ>0。当权重参数均为0时，惩罚项最小。当λ较大时，惩罚项在损失函数中的权重较大，通常会使学习到的权重参数的元素较接近0；当λ设为0时，惩罚项完全不起作用。上式中L2范数平方$$\\|w\\|^{2}展开后得到w_{1}^{2}+w_{2}^{2}$$\n",
    "有了L2范数惩罚项后，在小批量随机梯度下降汇总，我们将线性回归一节中权重w1和w2的迭代方式更改为\n",
    "$$\n",
    "\\begin{array} { l } { w _ { 1 } \\leftarrow \\left( 1 - \\frac { \\eta \\lambda } { | \\mathcal { B } | } \\right) w _ { 1 } - \\frac { \\eta } { | \\mathcal { B } | } \\sum _ { i \\in \\mathcal { B } } x _ { 1 } ^ { ( i ) } \\left( x _ { 1 } ^ { ( i ) } w _ { 1 } + x _ { 2 } ^ { ( i ) } w _ { 2 } + b - y ^ { ( i ) } \\right) } \\\\ { w _ { 2 } \\leftarrow \\left( 1 - \\frac { \\eta \\lambda } { | \\mathcal { B } | } \\right) w _ { 2 } - \\frac { \\eta } { | \\mathcal { B } | } \\sum _ { i \\in \\mathcal { B } } x _ { 2 } ^ { ( i ) } \\left( x _ { 1 } ^ { ( i ) } w _ { 1 } + x _ { 2 } ^ { ( i ) } w _ { 2 } + b - y ^ { ( i ) } \\right) } \\end{array}\n",
    "$$\n",
    "\n",
    "可见，L2范数正则化令权重w1和w2先自乘一个小于1的数，再减去不含惩罚项的梯度。因此L2范数正则化又叫做权重衰减。有时候在惩罚项中也添加偏置元素的平方和。"
   ]
  },
  {
   "cell_type": "markdown",
   "metadata": {},
   "source": [
    "##### 高维线性回归实验"
   ]
  },
  {
   "cell_type": "markdown",
   "metadata": {},
   "source": [
    "高纬线性过拟合数据，并使用权重衰减来应对过拟合。设定特征的维度为p,对于训练和测试数据中特征为$x_{1},x_{2},x_{3},,,,,x_{p}$的任一样本，我们使用如下的形象函数来生成该样本的标签：\n",
    "$y = 0.05+\\sum_{i=1}^{p}0.01x_{i}+\\epsilon，\n",
    "其中噪音项\\epsilon$服从均值为0，标准差为0.01的正态分布。为了较容易的观察过拟合，我们考虑高纬线性回归问题，设定维度200，同时故意把训练数据集的样本降低为20。"
   ]
  },
  {
   "cell_type": "code",
   "execution_count": 1,
   "metadata": {},
   "outputs": [],
   "source": [
    "%matplotlib inline\n",
    "import torch\n",
    "import torch.nn as nn\n",
    "import  numpy as np\n",
    "import sys \n",
    "sys.path.append('..')\n",
    "import d2lzh_pytorch as d2l\n"
   ]
  },
  {
   "cell_type": "code",
   "execution_count": 2,
   "metadata": {},
   "outputs": [],
   "source": [
    "n_train,n_test,num_inputs = 20,100,200   # 训练，测试样本，数据维度\n",
    "true_w ,true_b = torch.ones(num_inputs,1)*0.01 , 0.05\n",
    "\n",
    "\n",
    "features = torch.randn((n_train + n_test, num_inputs))\n",
    "labels = torch.matmul(features, true_w) + true_b\n",
    "labels += torch.tensor(np.random.normal(0, 0.01, size=labels.size()), dtype=torch.float)\n",
    "train_features, test_features = features[:n_train, :], features[n_train:, :]\n",
    "train_labels, test_labels = labels[:n_train], labels[n_train:]"
   ]
  },
  {
   "cell_type": "markdown",
   "metadata": {},
   "source": [
    "##### 从零开始实现"
   ]
  },
  {
   "cell_type": "markdown",
   "metadata": {},
   "source": [
    "从零开始实现权重衰减的方法，在目标函数后添加L2范数惩罚项来实现权重衰减。"
   ]
  },
  {
   "cell_type": "markdown",
   "metadata": {},
   "source": [
    "###### 初始化模型参数"
   ]
  },
  {
   "cell_type": "code",
   "execution_count": 3,
   "metadata": {},
   "outputs": [],
   "source": [
    "def init_params():\n",
    "    w = torch.randn((num_inputs,1),requires_grad=True)\n",
    "    b = torch.zeros(1,requires_grad=True)\n",
    "    return [w,b]"
   ]
  },
  {
   "cell_type": "markdown",
   "metadata": {},
   "source": [
    "###### 定义L2范数惩罚项"
   ]
  },
  {
   "cell_type": "code",
   "execution_count": 4,
   "metadata": {},
   "outputs": [],
   "source": [
    "def l2_penalty(w):\n",
    "    return (w**2).sum()/2"
   ]
  },
  {
   "cell_type": "code",
   "execution_count": 5,
   "metadata": {},
   "outputs": [],
   "source": [
    "def linreg(X,w,b):\n",
    "    return torch.mm(X,w)+b\n",
    "\n",
    "\n",
    "def squared_loss(y_hat,y):\n",
    "    return (y_hat-y.view(y_hat.size()))**2/2\n",
    "\n",
    "def sgd(params,lr,batch_size):\n",
    "    for param in params:\n",
    "        param.data -=lr* param.grad/batch_size  \n",
    "\n",
    "        \n",
    "        #定义作图函数 semiplgy 其中y轴使用了对数尺度\n",
    "def semilogy(x,y,x_label,y_label,x2=None,y2=None,legend=None,figsize=(3.5,2.5)):\n",
    "    d2l.set_figsize(figsize)\n",
    "    d2l.plt.xlabel(x_label)\n",
    "    d2l.plt.ylabel(y_label)\n",
    "    d2l.plt.semilogy(x,y)\n",
    "    if x2 and y2:\n",
    "        d2l.plt.semilogy(x2,y2,linestyle=':')\n",
    "        d2l.plt.legend(legend)\n"
   ]
  },
  {
   "cell_type": "markdown",
   "metadata": {},
   "source": [
    "###### 定义训练和测试"
   ]
  },
  {
   "cell_type": "code",
   "execution_count": 6,
   "metadata": {},
   "outputs": [],
   "source": [
    "batch_size,num_epochs ,lr =1,100,0.003\n",
    "net,loss = linreg,squared_loss"
   ]
  },
  {
   "cell_type": "code",
   "execution_count": 7,
   "metadata": {},
   "outputs": [],
   "source": [
    "dataset = torch.utils.data.TensorDataset(train_features,train_labels)\n",
    "train_iter = torch.utils.data.DataLoader(dataset,batch_size,shuffle=True)\n"
   ]
  },
  {
   "cell_type": "code",
   "execution_count": 8,
   "metadata": {},
   "outputs": [],
   "source": [
    "def fit_and_plot(lambd):\n",
    "    w,b = init_params()\n",
    "    train_ls,test_ls = [],[]\n",
    "    for _ in range(num_epochs):\n",
    "        for X,y in train_iter:\n",
    "\n",
    "            #l = loss(net(X, w, b), y) + lambd * l2_penalty(w)\n",
    "            l = loss(net(X,w,b),y)+lambd*l2_penalty(w)\n",
    "            l=l.sum()\n",
    "            if w.grad is not None:\n",
    "                w.grad.data.zero_()\n",
    "                b.grad.data.zero_()\n",
    "                \n",
    "            l.backward()\n",
    "            sgd([w,b],lr,batch_size)\n",
    "        train_ls.append(loss(net(train_features,w,b),train_labels).mean().item())\n",
    "        test_ls.append(loss(net(test_features,w,b),test_labels).mean().item())\n",
    "        \n",
    "    semilogy(range(1,num_epochs+1),train_ls,'epochs','loss',\n",
    "                range(1,num_epochs+1),test_ls,['train','test'])\n",
    "    print(\"L2 norm of w\",w.norm().item())"
   ]
  },
  {
   "cell_type": "code",
   "execution_count": 9,
   "metadata": {},
   "outputs": [
    {
     "name": "stdout",
     "output_type": "stream",
     "text": [
      "L2 norm of w 13.360041618347168\n"
     ]
    },
    {
     "data": {
      "image/png": "[encoded data removed]",
      "text/plain": [
       "<Figure size 252x180 with 1 Axes>"
      ]
     },
     "metadata": {
      "needs_background": "light"
     },
     "output_type": "display_data"
    }
   ],
   "source": [
    "fit_and_plot(lambd=0)"
   ]
  },
  {
   "cell_type": "markdown",
   "metadata": {},
   "source": [
    "###### 使用权重衰减"
   ]
  },
  {
   "cell_type": "code",
   "execution_count": 10,
   "metadata": {},
   "outputs": [
    {
     "name": "stdout",
     "output_type": "stream",
     "text": [
      "L2 norm of w 0.0406213141977787\n"
     ]
    },
    {
     "data": {
      "image/png": "[encoded data removed]",
      "text/plain": [
       "<Figure size 252x180 with 1 Axes>"
      ]
     },
     "metadata": {
      "needs_background": "light"
     },
     "output_type": "display_data"
    }
   ],
   "source": [
    "fit_and_plot(lambd=3)\n",
    "# 训练集的误差有所提高，但是测试集上的误差同样下降，过拟合的现象在一定程度上缓解，\n",
    "#另外权重参数L2范数比不适用权重衰减更小，此时的权重参数更加接近0"
   ]
  },
  {
   "cell_type": "markdown",
   "metadata": {},
   "source": [
    "##### pytorch简洁实现"
   ]
  },
  {
   "cell_type": "markdown",
   "metadata": {},
   "source": [
    "这里我们直接在构造优化器实例时通过weight_decay参数来指定权重衰减超参数，默认是pytorch会对权重和偏置同事衰减。我们可以分别对权重和偏置购置优化器实例，从而只对权重衰减。"
   ]
  },
  {
   "cell_type": "code",
   "execution_count": 16,
   "metadata": {},
   "outputs": [],
   "source": [
    "def fit_and_plot_pytorch(wd):\n",
    "    net = nn.Linear(num_inputs,1)\n",
    "    nn.init.normal_(net.weight,mean=0,std=1)\n",
    "    nn.init.normal_(net.bias,mean=0,std=1)\n",
    "    optimizer_w = torch.optim.SGD(params=[net.weight],lr=lr,weight_decay=wd)\n",
    "    optimizer_b = torch.optim.SGD(params=[net.bias],lr=lr)\n",
    "    \n",
    "    \n",
    "    train_ls ,test_ls = [],[]\n",
    "    for _ in range(num_epochs):\n",
    "        for X,y in train_iter:\n",
    "            l = loss(net(X),y).mean()\n",
    "            optimizer_w.zero_grad()\n",
    "            optimizer_b.zero_grad()\n",
    "            l.backward()\n",
    "            optimizer_b.step()\n",
    "            optimizer_w.step()\n",
    "            \n",
    "        train_ls.append(loss(net(train_features),train_labels).mean().item())\n",
    "        test_ls.append(loss(net(test_features),test_labels).mean().item())\n",
    "    semilogy(range(1,num_epochs+1),train_ls,'epochs','loss',\n",
    "                range(1,num_epochs+1),test_ls,['train','test'])\n",
    "    print(\"L2 norm of w\",net.weight.data.norm().item())"
   ]
  },
  {
   "cell_type": "code",
   "execution_count": 17,
   "metadata": {},
   "outputs": [
    {
     "name": "stdout",
     "output_type": "stream",
     "text": [
      "L2 norm of w 13.489049911499023\n"
     ]
    },
    {
     "data": {
      "image/png": "[encoded data removed]",
      "text/plain": [
       "<Figure size 252x180 with 1 Axes>"
      ]
     },
     "metadata": {
      "needs_background": "light"
     },
     "output_type": "display_data"
    }
   ],
   "source": [
    "fit_and_plot_pytorch(0)"
   ]
  },
  {
   "cell_type": "code",
   "execution_count": 18,
   "metadata": {},
   "outputs": [
    {
     "name": "stdout",
     "output_type": "stream",
     "text": [
      "L2 norm of w 0.13610510528087616\n"
     ]
    },
    {
     "data": {
      "image/png": "[encoded data removed]",
      "text/plain": [
       "<Figure size 252x180 with 1 Axes>"
      ]
     },
     "metadata": {
      "needs_background": "light"
     },
     "output_type": "display_data"
    }
   ],
   "source": [
    "fit_and_plot_pytorch(3)"
   ]
  },
  {
   "cell_type": "markdown",
   "metadata": {},
   "source": [
    "##### 小结"
   ]
  },
  {
   "cell_type": "markdown",
   "metadata": {},
   "source": [
    "- 正则化通过为模型损失函数中添加惩罚项使学习到的模型参数值较小，是对应过拟合的常用方法\n",
    "- 权重衰减等于L2范数正则化，通常使学习到的权重参数接近0\n",
    "- 权重衰减可以通过优化器的weight_decay超参数来指定\n",
    "- 可以定义多个优化器实例对不同的模型参数使用不同的迭代方法"
   ]
  }
 ],
 "metadata": {
  "kernelspec": {
   "display_name": "Python 3",
   "language": "python",
   "name": "python3"
  },
  "language_info": {
   "codemirror_mode": {
    "name": "ipython",
    "version": 3
   },
   "file_extension": ".py",
   "mimetype": "text/x-python",
   "name": "python",
   "nbconvert_exporter": "python",
   "pygments_lexer": "ipython3",
   "version": "3.6.4"
  },
  "toc": {
   "base_numbering": 1,
   "nav_menu": {},
   "number_sections": true,
   "sideBar": true,
   "skip_h1_title": false,
   "title_cell": "Table of Contents",
   "title_sidebar": "Contents",
   "toc_cell": false,
   "toc_position": {},
   "toc_section_display": true,
   "toc_window_display": true
  }
 },
 "nbformat": 4,
 "nbformat_minor": 2
}
