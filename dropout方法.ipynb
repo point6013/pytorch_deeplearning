{
 "cells": [
  {
   "cell_type": "markdown",
   "metadata": {},
   "source": [
    "针对深度学习中的过拟合问题，通常使用丢弃法(dropout),丢弃法有很多的变体，本文提高的丢弃法特指倒置丢弃法(inverted dorpout)。"
   ]
  },
  {
   "cell_type": "markdown",
   "metadata": {},
   "source": [
    "#### 方法"
   ]
  },
  {
   "cell_type": "markdown",
   "metadata": {},
   "source": [
    "在会议多层感知机的图3.3描述了一个单隐藏层的多层感知机。其中输入个数为4，隐藏单元个数为5，且隐藏单元$h_{i}(1,2,3,4,5)$的计算表达式为\n",
    "$h_{i} = \\varphi(x_{1}w_{1i}+x_{2}w_{2i}+x_{1}w_{3i}+x_{1}w_{4i}+b_{i})$\n",
    "这个里的$\\varphi$是激活函数，$x_{1},x_{2},x_{3},x_{4}是输入，隐层单元i的权重参数为w_{1i}，w_{2i}，w_{3i}，w_{4i}，偏置参数为b_{i}$，当对该隐藏层使用丢弃法是，该层的隐藏单元将有一定概率的被丢弃掉。设丢弃的概率为P,那么有p的概率hi会被清零，有1-p的概率hi会除以1-p做拉伸。丢弃概率是丢弃法的超参数。具体来说，设随机变量$\\xi为0和1的概率分别是p和1-p。使用丢弃法时，我们使用计算新的隐藏单元h_{i}^{'}$\n",
    "$h_{i}^{'} = \\frac{\\xi_{i}}{1-p}h_{i}$\n",
    "由于$E(\\xi_{i}) = 1-p $,因此\n",
    "$E(\\xi_{i}^{'}) = \\frac{E(\\xi_{i})}{1-p}h_{i} = h_{i}$\n",
    "丢弃法不改变其输入的期望值。"
   ]
  },
  {
   "cell_type": "markdown",
   "metadata": {},
   "source": [
    "如图3.5所示，其中，h2和h5被清零，这时输出值的计算不再依赖h2和h5，在反向传播时，与这两个隐藏单元相关的权重的梯度均为0。由于训练汇总隐藏层的神经元丢弃是随机的，即h1,h2,h3,h4,h5都可能被清零，输出层计算无法过度依赖h1,h2,h3..h5中的任一个，从而在训练模型时起到的正则化的作用，可以用来应付过拟合。在测试模型时，我们为了拿到更加确定的结果，一般不适用丢弃法。\n",
    "\n",
    "![](https://tva1.sinaimg.cn/large/006y8mN6gy1g8yrgejkkpj309c05kdgc.jpg)"
   ]
  },
  {
   "cell_type": "markdown",
   "metadata": {},
   "source": [
    "##### 从零开始实现"
   ]
  },
  {
   "cell_type": "code",
   "execution_count": 1,
   "metadata": {},
   "outputs": [],
   "source": [
    "%matplotlib inline\n",
    "import torch\n",
    "import torch.nn as nn\n",
    "import numpy as np\n",
    "import sys\n",
    "sys.path.append('..')\n",
    "import d2lzh_pytorch as d2l\n"
   ]
  },
  {
   "cell_type": "code",
   "execution_count": 2,
   "metadata": {},
   "outputs": [],
   "source": [
    "def dropout(X,drop_prob):\n",
    "    X = X.float()\n",
    "    assert 0<=drop_prob<=1\n",
    "    keep_prob = 1-drop_prob\n",
    "    if keep_prob==0:\n",
    "        return torch.torch.zeros_like(X)\n",
    "    mask = (torch.rand(X.shape)<keep_prob).float()\n",
    "    # 均匀分布的的张量，torch.rand(*sizes,out=None) → Tensor\n",
    "    # 返回一个张量，包含了从区间(0,1)的均匀分布中随机抽取的一组随机数。\n",
    "    #print(mask)\n",
    "    return mask * X / keep_prob"
   ]
  },
  {
   "cell_type": "code",
   "execution_count": 3,
   "metadata": {},
   "outputs": [
    {
     "data": {
      "text/plain": [
       "tensor([[ 0.,  1.,  2.,  3.,  4.,  5.,  6.,  7.],\n",
       "        [ 8.,  9., 10., 11., 12., 13., 14., 15.]])"
      ]
     },
     "execution_count": 3,
     "metadata": {},
     "output_type": "execute_result"
    }
   ],
   "source": [
    "X = torch.arange(16).view(2,8)\n",
    "dropout(X,0)"
   ]
  },
  {
   "cell_type": "code",
   "execution_count": 4,
   "metadata": {},
   "outputs": [
    {
     "data": {
      "text/plain": [
       "tensor([[ 0.,  0.,  0.,  0.,  0., 10.,  0., 14.],\n",
       "        [16., 18.,  0.,  0.,  0., 26., 28., 30.]])"
      ]
     },
     "execution_count": 4,
     "metadata": {},
     "output_type": "execute_result"
    }
   ],
   "source": [
    "dropout(X,0.5)"
   ]
  },
  {
   "cell_type": "code",
   "execution_count": 5,
   "metadata": {},
   "outputs": [
    {
     "data": {
      "text/plain": [
       "tensor([[0., 0., 0., 0., 0., 0., 0., 0.],\n",
       "        [0., 0., 0., 0., 0., 0., 0., 0.]])"
      ]
     },
     "execution_count": 5,
     "metadata": {},
     "output_type": "execute_result"
    }
   ],
   "source": [
    "dropout(X,1)"
   ]
  },
  {
   "cell_type": "markdown",
   "metadata": {},
   "source": [
    "#### 定义模型参数"
   ]
  },
  {
   "cell_type": "code",
   "execution_count": 6,
   "metadata": {},
   "outputs": [],
   "source": [
    "num_inputs,num_outputs, num_hidden1,num_hidden2 = 784,10,256,256\n",
    "W1 = torch.tensor(np.random.normal(0,0.01,size=(num_inputs,num_hidden1)),dtype =torch.float32,requires_grad=True )\n",
    "b1 = torch.zeros(num_hidden1,requires_grad=True)\n",
    "\n",
    "W2 = torch.tensor(np.random.normal(0,0.01,size=(num_hidden1,num_hidden2)),dtype =torch.float32,requires_grad=True )\n",
    "b2 = torch.zeros(num_hidden2,requires_grad=True)\n",
    "\n",
    "\n",
    "W3 = torch.tensor(np.random.normal(0,0.01,size=(num_hidden2,num_outputs)),dtype =torch.float32,requires_grad=True )\n",
    "b3 = torch.zeros(num_outputs,requires_grad=True)\n",
    "\n",
    "\n",
    "params = [W1,b1,W2,b2,W3,b3]\n"
   ]
  },
  {
   "cell_type": "markdown",
   "metadata": {},
   "source": [
    "##### 网络"
   ]
  },
  {
   "cell_type": "code",
   "execution_count": 7,
   "metadata": {},
   "outputs": [],
   "source": [
    "drop_prob1,drop_prob2  = 0.2,0.5\n",
    "def net(X,is_training=True):\n",
    "    X = X.view(-1,num_inputs)\n",
    "    H1 = (torch.matmul(X,W1)+b1).relu()\n",
    "    if is_training:\n",
    "        H1 = dropout(H1,drop_prob1)\n",
    "        \n",
    "    H2 = (torch.matmul(H1,W2)+b2).relu()\n",
    "    if is_training:\n",
    "        H2 = dropout(H2,drop_prob2)\n",
    "    return torch.matmul(H2,W3)+b3\n"
   ]
  },
  {
   "cell_type": "markdown",
   "metadata": {},
   "source": [
    "##### 评估函数"
   ]
  },
  {
   "cell_type": "code",
   "execution_count": 8,
   "metadata": {},
   "outputs": [],
   "source": [
    "def evaluate_accuracy(data_iter,net):\n",
    "    acc_sum ,n = 0.0,0\n",
    "    for X,y in data_iter:\n",
    "        if isinstance(net,torch.nn.Module):  #如果是torch.nn里简洁的实现的模型\n",
    "            net.eval()  # 评估模式，这时会关闭Dropout\n",
    "            acc_sum+=(net(X).argmax(dim=1)==y).float().sum().item()\n",
    "            net.train()  # 改回训练模式\n",
    "        else:  # 自己定义的模型\n",
    "            if ('is_training' in net.__code__.co_varnames):   #  如果有训练这个参数\n",
    "                # 将is_training 设置为False \n",
    "                acc_sum +=(net(X,is_training=False).argmax(dim=1)==y).float().sum().item()\n",
    "            else:\n",
    "                acc_sum+=(net(X),argmax(dim=1)==y).float().sum().item()\n",
    "        n+= y.shape[0]\n",
    "    return acc_sum/n     \n",
    "    "
   ]
  },
  {
   "cell_type": "markdown",
   "metadata": {},
   "source": [
    "##### 优化方法"
   ]
  },
  {
   "cell_type": "code",
   "execution_count": 9,
   "metadata": {},
   "outputs": [],
   "source": [
    "def sgd(params,lr,batch_size):\n",
    "    for param in params:\n",
    "#         param.data -=lr* param.grad/batch_size   \n",
    "        param.data-= lr* param.grad   # 计算loss使用的是pytorch的交叉熵\n",
    "# 这个梯度可以不用除以batch_size,pytorch 在计算loss的时候已经除过一次了，"
   ]
  },
  {
   "cell_type": "markdown",
   "metadata": {},
   "source": [
    "##### 定义损失函数"
   ]
  },
  {
   "cell_type": "code",
   "execution_count": 10,
   "metadata": {},
   "outputs": [],
   "source": [
    "loss = torch.nn.CrossEntropyLoss()"
   ]
  },
  {
   "cell_type": "markdown",
   "metadata": {},
   "source": [
    "##### 数据提取"
   ]
  },
  {
   "cell_type": "code",
   "execution_count": 11,
   "metadata": {},
   "outputs": [],
   "source": [
    "num_epochs,lr,batch_size=15,0.3,256\n",
    "batch_size = 256\n",
    "train_iter,test_iter = d2l.get_fahsion_mnist(batch_size)"
   ]
  },
  {
   "cell_type": "code",
   "execution_count": 12,
   "metadata": {},
   "outputs": [],
   "source": [
    "def train_ch3(net, train_iter, test_iter, loss, num_epochs, batch_size,\n",
    "              params=None, lr=None, optimizer=None):\n",
    "    for epoch in range(num_epochs):\n",
    "        train_l_sum, train_acc_sum, n = 0.0, 0.0, 0\n",
    "        for X, y in train_iter:\n",
    "            y_hat = net(X)\n",
    "            l = loss(y_hat, y).sum()\n",
    "\n",
    "            # 梯度清零\n",
    "            if optimizer is not None:\n",
    "                optimizer.zero_grad()\n",
    "            elif params is not None and params[0].grad is not None:\n",
    "                for param in params:\n",
    "                    param.grad.data.zero_()\n",
    "\n",
    "            l.backward()\n",
    "            if optimizer is None:\n",
    "                sgd(params, lr, batch_size)\n",
    "            else:\n",
    "                optimizer.step()  # “softmax回归的简洁实现”一节将用到\n",
    "\n",
    "\n",
    "            train_l_sum += l.item()\n",
    "            train_acc_sum += (y_hat.argmax(dim=1) == y).sum().item()\n",
    "            n += y.shape[0]\n",
    "        test_acc = evaluate_accuracy(test_iter, net)\n",
    "        print('epoch %d, loss %.4f, train acc %.3f, test acc %.3f'\n",
    "              % (epoch + 1, train_l_sum / n, train_acc_sum / n, test_acc))\n",
    "\n"
   ]
  },
  {
   "cell_type": "code",
   "execution_count": 13,
   "metadata": {},
   "outputs": [
    {
     "name": "stdout",
     "output_type": "stream",
     "text": [
      "epoch 1, loss 0.0049, train acc 0.513, test acc 0.693\n",
      "epoch 2, loss 0.0024, train acc 0.776, test acc 0.781\n",
      "epoch 3, loss 0.0020, train acc 0.818, test acc 0.780\n",
      "epoch 4, loss 0.0018, train acc 0.835, test acc 0.846\n",
      "epoch 5, loss 0.0017, train acc 0.846, test acc 0.843\n",
      "epoch 6, loss 0.0016, train acc 0.855, test acc 0.843\n",
      "epoch 7, loss 0.0015, train acc 0.861, test acc 0.843\n",
      "epoch 8, loss 0.0015, train acc 0.863, test acc 0.855\n",
      "epoch 9, loss 0.0014, train acc 0.870, test acc 0.861\n",
      "epoch 10, loss 0.0014, train acc 0.872, test acc 0.845\n",
      "epoch 11, loss 0.0013, train acc 0.874, test acc 0.853\n",
      "epoch 12, loss 0.0013, train acc 0.878, test acc 0.848\n",
      "epoch 13, loss 0.0013, train acc 0.880, test acc 0.859\n",
      "epoch 14, loss 0.0013, train acc 0.882, test acc 0.858\n",
      "epoch 15, loss 0.0012, train acc 0.885, test acc 0.863\n"
     ]
    }
   ],
   "source": [
    "train_ch3(net,train_iter,test_iter,loss,num_epochs,batch_size,params,lr)"
   ]
  },
  {
   "cell_type": "markdown",
   "metadata": {},
   "source": [
    "#### pytorch简洁实现"
   ]
  },
  {
   "cell_type": "code",
   "execution_count": 14,
   "metadata": {},
   "outputs": [
    {
     "name": "stdout",
     "output_type": "stream",
     "text": [
      "epoch 1, loss 0.0048, train acc 0.525, test acc 0.725\n",
      "epoch 2, loss 0.0024, train acc 0.779, test acc 0.787\n",
      "epoch 3, loss 0.0020, train acc 0.818, test acc 0.771\n",
      "epoch 4, loss 0.0018, train acc 0.836, test acc 0.834\n",
      "epoch 5, loss 0.0017, train acc 0.847, test acc 0.848\n",
      "epoch 6, loss 0.0016, train acc 0.855, test acc 0.855\n",
      "epoch 7, loss 0.0015, train acc 0.859, test acc 0.850\n",
      "epoch 8, loss 0.0014, train acc 0.863, test acc 0.853\n",
      "epoch 9, loss 0.0014, train acc 0.868, test acc 0.848\n",
      "epoch 10, loss 0.0014, train acc 0.872, test acc 0.837\n",
      "epoch 11, loss 0.0013, train acc 0.876, test acc 0.849\n",
      "epoch 12, loss 0.0013, train acc 0.879, test acc 0.872\n",
      "epoch 13, loss 0.0013, train acc 0.880, test acc 0.847\n",
      "epoch 14, loss 0.0013, train acc 0.883, test acc 0.862\n",
      "epoch 15, loss 0.0012, train acc 0.886, test acc 0.865\n"
     ]
    }
   ],
   "source": [
    "net = nn.Sequential(\n",
    "d2l.FlattenLayer(),\n",
    "    nn.Linear(num_inputs,num_hidden1),\n",
    "    nn.ReLU(),\n",
    "    nn.Dropout(drop_prob1),\n",
    "    nn.Linear(num_hidden1,num_hidden2),\n",
    "    nn.ReLU(),\n",
    "    nn.Dropout(drop_prob2),\n",
    "    nn.Linear(num_hidden2,num_outputs)\n",
    ")\n",
    "for param in net.parameters():\n",
    "    nn.init.normal_(param,mean=0,std=0.01)\n",
    "optimizer = torch.optim.SGD(net.parameters(),lr=0.3)\n",
    "train_ch3(net,train_iter,test_iter,loss,num_epochs,batch_size,None,None,optimizer)"
   ]
  },
  {
   "cell_type": "markdown",
   "metadata": {},
   "source": [
    "##### 小结\n",
    "- 可以使用Dropout应对过拟合\n",
    "- 丢弃法只能在训练模型时使用"
   ]
  }
 ],
 "metadata": {
  "kernelspec": {
   "display_name": "Python 3",
   "language": "python",
   "name": "python3"
  },
  "language_info": {
   "codemirror_mode": {
    "name": "ipython",
    "version": 3
   },
   "file_extension": ".py",
   "mimetype": "text/x-python",
   "name": "python",
   "nbconvert_exporter": "python",
   "pygments_lexer": "ipython3",
   "version": "3.6.4"
  },
  "toc": {
   "base_numbering": 1,
   "nav_menu": {},
   "number_sections": true,
   "sideBar": true,
   "skip_h1_title": false,
   "title_cell": "Table of Contents",
   "title_sidebar": "Contents",
   "toc_cell": false,
   "toc_position": {},
   "toc_section_display": true,
   "toc_window_display": false
  }
 },
 "nbformat": 4,
 "nbformat_minor": 2
}
